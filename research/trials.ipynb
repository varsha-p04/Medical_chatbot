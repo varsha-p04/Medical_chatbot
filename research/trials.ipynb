{
 "cells": [
  {
   "cell_type": "code",
   "execution_count": null,
   "metadata": {},
   "outputs": [],
   "source": [
    "print(\"ok\")"
   ]
  },
  {
   "cell_type": "code",
   "execution_count": 2,
   "metadata": {},
   "outputs": [
    {
     "data": {
      "text/plain": [
       "'c:\\\\Users\\\\varsh\\\\OneDrive\\\\Desktop\\\\Projects\\\\Medical_chatbot\\\\research'"
      ]
     },
     "execution_count": 2,
     "metadata": {},
     "output_type": "execute_result"
    }
   ],
   "source": [
    "%pwd"
   ]
  },
  {
   "cell_type": "code",
   "execution_count": 1,
   "metadata": {},
   "outputs": [],
   "source": [
    "import os \n",
    "os.chdir(\"../\")"
   ]
  },
  {
   "cell_type": "code",
   "execution_count": 2,
   "metadata": {},
   "outputs": [
    {
     "data": {
      "text/plain": [
       "'c:\\\\Users\\\\varsh\\\\OneDrive\\\\Desktop\\\\Projects\\\\Medical_chatbot'"
      ]
     },
     "execution_count": 2,
     "metadata": {},
     "output_type": "execute_result"
    }
   ],
   "source": [
    "%pwd"
   ]
  },
  {
   "cell_type": "code",
   "execution_count": null,
   "metadata": {},
   "outputs": [],
   "source": [
    "%pwd"
   ]
  },
  {
   "cell_type": "code",
   "execution_count": 2,
   "metadata": {},
   "outputs": [],
   "source": [
    "import os\n",
    "os.chdir(\"../\")"
   ]
  },
  {
   "cell_type": "code",
   "execution_count": 3,
   "metadata": {},
   "outputs": [],
   "source": [
    "from langchain.document_loaders import PyPDFLoader, DirectoryLoader\n",
    "from langchain.text_splitter import RecursiveCharacterTextSplitter"
   ]
  },
  {
   "cell_type": "code",
   "execution_count": 5,
   "metadata": {},
   "outputs": [],
   "source": [
    "def load_pdf_file(data):\n",
    "    loader = DirectoryLoader(\n",
    "        data,\n",
    "        glob=\"*.pdf\",\n",
    "        loader_cls=PyPDFLoader\n",
    "    )\n",
    "\n",
    "    documents = loader.load()\n",
    "\n",
    "    return documents"
   ]
  },
  {
   "cell_type": "code",
   "execution_count": 6,
   "metadata": {},
   "outputs": [],
   "source": [
    "extracted_data=load_pdf_file(data='Data/')"
   ]
  },
  {
   "cell_type": "code",
   "execution_count": 7,
   "metadata": {},
   "outputs": [],
   "source": [
    "def text_split(extracted_data):\n",
    "    text_splitter = RecursiveCharacterTextSplitter(chunk_size = 500, chunk_overlap = 20)\n",
    "    text_chunks = text_splitter.split_documents(extracted_data)\n",
    "\n",
    "    return text_chunks"
   ]
  },
  {
   "cell_type": "code",
   "execution_count": 8,
   "metadata": {},
   "outputs": [
    {
     "name": "stdout",
     "output_type": "stream",
     "text": [
      "length of my chunk: 5860\n"
     ]
    }
   ],
   "source": [
    "text_chunks = text_split(extracted_data)\n",
    "print(\"length of my chunk:\", len(text_chunks))"
   ]
  },
  {
   "cell_type": "code",
   "execution_count": 9,
   "metadata": {},
   "outputs": [],
   "source": [
    "from langchain.embeddings import HuggingFaceEmbeddings"
   ]
  },
  {
   "cell_type": "code",
   "execution_count": 10,
   "metadata": {},
   "outputs": [],
   "source": [
    "def download_hugging_face_embeddings():\n",
    "    embeddings = HuggingFaceEmbeddings(model_name=\"sentence-transformers/all-MiniLM-L6-v2\")\n",
    "    return embeddings"
   ]
  },
  {
   "cell_type": "code",
   "execution_count": 12,
   "metadata": {},
   "outputs": [
    {
     "name": "stderr",
     "output_type": "stream",
     "text": [
      "C:\\Users\\varsh\\AppData\\Local\\Temp\\ipykernel_17876\\4238859041.py:2: LangChainDeprecationWarning: The class `HuggingFaceEmbeddings` was deprecated in LangChain 0.2.2 and will be removed in 1.0. An updated version of the class exists in the :class:`~langchain-huggingface package and should be used instead. To use it run `pip install -U :class:`~langchain-huggingface` and import as `from :class:`~langchain_huggingface import HuggingFaceEmbeddings``.\n",
      "  embeddings = HuggingFaceEmbeddings(model_name=\"sentence-transformers/all-MiniLM-L6-v2\")\n",
      "c:\\Users\\varsh\\anaconda3\\envs\\medibot\\lib\\site-packages\\tqdm\\auto.py:21: TqdmWarning: IProgress not found. Please update jupyter and ipywidgets. See https://ipywidgets.readthedocs.io/en/stable/user_install.html\n",
      "  from .autonotebook import tqdm as notebook_tqdm\n"
     ]
    }
   ],
   "source": [
    "embeddings = download_hugging_face_embeddings()"
   ]
  },
  {
   "cell_type": "code",
   "execution_count": 13,
   "metadata": {},
   "outputs": [
    {
     "name": "stdout",
     "output_type": "stream",
     "text": [
      "Length 384\n"
     ]
    }
   ],
   "source": [
    "query_result = embeddings.embed_query(\"Hello world\")\n",
    "print(\"Length\", len(query_result))"
   ]
  },
  {
   "cell_type": "code",
   "execution_count": 7,
   "metadata": {},
   "outputs": [
    {
     "data": {
      "text/plain": [
       "[-0.03447733446955681,\n",
       " 0.031023165211081505,\n",
       " 0.006734927650541067,\n",
       " 0.026108937337994576,\n",
       " -0.03936205059289932,\n",
       " -0.16030246019363403,\n",
       " 0.06692402064800262,\n",
       " -0.006441427394747734,\n",
       " -0.0474504679441452,\n",
       " 0.014758850447833538,\n",
       " 0.07087534666061401,\n",
       " 0.055527668446302414,\n",
       " 0.01919332891702652,\n",
       " -0.026251325383782387,\n",
       " -0.01010952703654766,\n",
       " -0.026940423995256424,\n",
       " 0.022307423874735832,\n",
       " -0.022226674482226372,\n",
       " -0.1496926248073578,\n",
       " -0.01749301142990589,\n",
       " 0.007676245644688606,\n",
       " 0.05435224249958992,\n",
       " 0.0032543970737606287,\n",
       " 0.03172587230801582,\n",
       " -0.08462141454219818,\n",
       " -0.029405992478132248,\n",
       " 0.051595594733953476,\n",
       " 0.048124048858881,\n",
       " -0.003314831294119358,\n",
       " -0.05827917903661728,\n",
       " 0.04196928068995476,\n",
       " 0.022210681810975075,\n",
       " 0.1281888335943222,\n",
       " -0.02233896218240261,\n",
       " -0.011656305752694607,\n",
       " 0.06292835623025894,\n",
       " -0.03287632763385773,\n",
       " -0.0912260189652443,\n",
       " -0.03117530234158039,\n",
       " 0.05269957333803177,\n",
       " 0.04703480377793312,\n",
       " -0.0842030942440033,\n",
       " -0.030056197196245193,\n",
       " -0.020744824782013893,\n",
       " 0.009517879225313663,\n",
       " -0.0037217664066702127,\n",
       " 0.0073433248326182365,\n",
       " 0.039324332028627396,\n",
       " 0.09327401965856552,\n",
       " -0.0037886211648583412,\n",
       " -0.052742112427949905,\n",
       " -0.058058205991983414,\n",
       " -0.006864392664283514,\n",
       " 0.005283242557197809,\n",
       " 0.08289297670125961,\n",
       " 0.01936277560889721,\n",
       " 0.006284479517489672,\n",
       " -0.010330787859857082,\n",
       " 0.00903239008039236,\n",
       " -0.03768372908234596,\n",
       " -0.04520609229803085,\n",
       " 0.0240163616836071,\n",
       " -0.006944164168089628,\n",
       " 0.01349165104329586,\n",
       " 0.10005498677492142,\n",
       " -0.07168392837047577,\n",
       " -0.02169514074921608,\n",
       " 0.0316183939576149,\n",
       " -0.051634639501571655,\n",
       " -0.08224773406982422,\n",
       " -0.06569331884384155,\n",
       " -0.009895342402160168,\n",
       " 0.005816339980810881,\n",
       " 0.07355451583862305,\n",
       " -0.034050315618515015,\n",
       " 0.024886062368750572,\n",
       " 0.014488041400909424,\n",
       " 0.026457402855157852,\n",
       " 0.00965674314647913,\n",
       " 0.030217241495847702,\n",
       " 0.0528038814663887,\n",
       " -0.07535988092422485,\n",
       " 0.009897168725728989,\n",
       " 0.029836829751729965,\n",
       " 0.017555583268404007,\n",
       " 0.023091958835721016,\n",
       " 0.001933866529725492,\n",
       " 0.0014001686358824372,\n",
       " -0.047176018357276917,\n",
       " -0.011194315738976002,\n",
       " -0.11420144885778427,\n",
       " -0.019811928272247314,\n",
       " 0.04026619344949722,\n",
       " 0.0021930101793259382,\n",
       " -0.07979220151901245,\n",
       " -0.025382298976182938,\n",
       " 0.09448299556970596,\n",
       " -0.028981031849980354,\n",
       " -0.145002543926239,\n",
       " 0.230977401137352,\n",
       " 0.027731187641620636,\n",
       " 0.032111458480358124,\n",
       " 0.031065044924616814,\n",
       " 0.042832858860492706,\n",
       " 0.06423778831958771,\n",
       " 0.032163120806217194,\n",
       " -0.004876722116023302,\n",
       " 0.05569945275783539,\n",
       " -0.037532344460487366,\n",
       " -0.021505502983927727,\n",
       " -0.028342682868242264,\n",
       " -0.02884695678949356,\n",
       " 0.038353078067302704,\n",
       " -0.017468629404902458,\n",
       " 0.052485283464193344,\n",
       " -0.07487602531909943,\n",
       " -0.03125978633761406,\n",
       " 0.021841585636138916,\n",
       " -0.039895668625831604,\n",
       " -0.008587073534727097,\n",
       " 0.026956554502248764,\n",
       " -0.04849553108215332,\n",
       " 0.011469884775578976,\n",
       " 0.029618211090564728,\n",
       " -0.020572209730744362,\n",
       " 0.013103856705129147,\n",
       " 0.028833473101258278,\n",
       " -3.1941979827962646e-33,\n",
       " 0.06478206068277359,\n",
       " -0.018130183219909668,\n",
       " 0.051789868623018265,\n",
       " 0.12198276817798615,\n",
       " 0.028780177235603333,\n",
       " 0.008721974678337574,\n",
       " -0.07052119076251984,\n",
       " -0.016907300800085068,\n",
       " 0.04073973000049591,\n",
       " 0.042116157710552216,\n",
       " 0.025447195395827293,\n",
       " 0.035746220499277115,\n",
       " -0.04914477467536926,\n",
       " 0.0021290075965225697,\n",
       " -0.015546598471701145,\n",
       " 0.05073058232665062,\n",
       " -0.0481853149831295,\n",
       " 0.03588062524795532,\n",
       " -0.0040670293383300304,\n",
       " 0.10172474384307861,\n",
       " -0.05597005784511566,\n",
       " -0.01068107783794403,\n",
       " 0.011235779151320457,\n",
       " 0.09068653732538223,\n",
       " 0.004234456457197666,\n",
       " 0.03513867035508156,\n",
       " -0.009702865965664387,\n",
       " -0.09386514127254486,\n",
       " 0.09285559505224228,\n",
       " 0.008004951290786266,\n",
       " -0.0077054682187736034,\n",
       " -0.05208670347929001,\n",
       " -0.012587985023856163,\n",
       " 0.0032669638749212027,\n",
       " 0.006013533100485802,\n",
       " 0.007581631187349558,\n",
       " 0.010517168790102005,\n",
       " -0.0863456055521965,\n",
       " -0.06987880915403366,\n",
       " -0.002533885883167386,\n",
       " -0.09097656607627869,\n",
       " 0.04688731208443642,\n",
       " 0.052076492458581924,\n",
       " 0.007193861063569784,\n",
       " 0.010903613641858101,\n",
       " -0.005229510832577944,\n",
       " 0.013937363401055336,\n",
       " 0.021968364715576172,\n",
       " 0.03420864790678024,\n",
       " 0.06022467091679573,\n",
       " 0.00011666511272778735,\n",
       " 0.014731938019394875,\n",
       " -0.07008924335241318,\n",
       " 0.028499040752649307,\n",
       " -0.027601683512330055,\n",
       " 0.010768462903797626,\n",
       " 0.0348309651017189,\n",
       " -0.022487884387373924,\n",
       " 0.009768991731107235,\n",
       " 0.07722783088684082,\n",
       " 0.021588340401649475,\n",
       " 0.11495620757341385,\n",
       " -0.06800113618373871,\n",
       " 0.02376095950603485,\n",
       " -0.015983982011675835,\n",
       " -0.01782696135342121,\n",
       " 0.06439492851495743,\n",
       " 0.03202575445175171,\n",
       " 0.05027031525969505,\n",
       " -0.0059137288480997086,\n",
       " -0.03370806574821472,\n",
       " 0.017840299755334854,\n",
       " 0.016573302447795868,\n",
       " 0.06329645961523056,\n",
       " 0.03467718884348869,\n",
       " 0.04647344350814819,\n",
       " 0.09790612757205963,\n",
       " -0.006635506637394428,\n",
       " 0.02520710602402687,\n",
       " -0.07798829674720764,\n",
       " 0.016926467418670654,\n",
       " -0.0009458351414650679,\n",
       " 0.02247190661728382,\n",
       " -0.03825320303440094,\n",
       " 0.09570484608411789,\n",
       " -0.005350785329937935,\n",
       " 0.010469097644090652,\n",
       " -0.11524054408073425,\n",
       " -0.013262524269521236,\n",
       " -0.010709496214985847,\n",
       " -0.08311727643013,\n",
       " 0.07327364385128021,\n",
       " 0.049392182379961014,\n",
       " -0.008994389325380325,\n",
       " -0.09584559500217438,\n",
       " 3.3661467250406564e-33,\n",
       " 0.12493184953927994,\n",
       " 0.019349750131368637,\n",
       " -0.05822575464844704,\n",
       " -0.035988230258226395,\n",
       " -0.05074668303132057,\n",
       " -0.045662377029657364,\n",
       " -0.08260338008403778,\n",
       " 0.14819477498531342,\n",
       " -0.08842115849256516,\n",
       " 0.06027441844344139,\n",
       " 0.05103016644716263,\n",
       " 0.010303163900971413,\n",
       " 0.14121422171592712,\n",
       " 0.03081383742392063,\n",
       " 0.061033088713884354,\n",
       " -0.052851300686597824,\n",
       " 0.13664893805980682,\n",
       " 0.009189927950501442,\n",
       " -0.01732521317899227,\n",
       " -0.01284866500645876,\n",
       " -0.00799528881907463,\n",
       " -0.05098005011677742,\n",
       " -0.05235062539577484,\n",
       " 0.007593044079840183,\n",
       " -0.01516634225845337,\n",
       " 0.01696031354367733,\n",
       " 0.021270573139190674,\n",
       " 0.020558074116706848,\n",
       " -0.12002810090780258,\n",
       " 0.014461774379014969,\n",
       " 0.02675989642739296,\n",
       " 0.025330673903226852,\n",
       " -0.04275466874241829,\n",
       " 0.006768439430743456,\n",
       " -0.014458555728197098,\n",
       " 0.04526196047663689,\n",
       " -0.09147650003433228,\n",
       " -0.01943914033472538,\n",
       " -0.017833467572927475,\n",
       " -0.054910141974687576,\n",
       " -0.05264105647802353,\n",
       " -0.01045906636863947,\n",
       " -0.052016086876392365,\n",
       " 0.020892024040222168,\n",
       " -0.07997031509876251,\n",
       " -0.01211131364107132,\n",
       " -0.057731371372938156,\n",
       " 0.02317824587225914,\n",
       " -0.008031711913645267,\n",
       " -0.025989383459091187,\n",
       " -0.07995669543743134,\n",
       " -0.020728835836052895,\n",
       " 0.0488177053630352,\n",
       " -0.020389089360833168,\n",
       " -0.04917662590742111,\n",
       " 0.014159660786390305,\n",
       " -0.06362201273441315,\n",
       " -0.007807403337210417,\n",
       " 0.016431566327810287,\n",
       " -0.025682466104626656,\n",
       " 0.01338112447410822,\n",
       " 0.02624875120818615,\n",
       " 0.009978408925235271,\n",
       " 0.06322887539863586,\n",
       " 0.0026721805334091187,\n",
       " -0.006582787726074457,\n",
       " 0.016631895676255226,\n",
       " 0.03236642852425575,\n",
       " 0.037942465394735336,\n",
       " -0.03637601435184479,\n",
       " -0.006910903379321098,\n",
       " 0.00015969930973369628,\n",
       " -0.0016335457330569625,\n",
       " -0.027278145775198936,\n",
       " -0.02803810127079487,\n",
       " 0.04968145117163658,\n",
       " -0.02886725217103958,\n",
       " -0.0024180342443287373,\n",
       " 0.01477491483092308,\n",
       " 0.009764513000845909,\n",
       " 0.005797668360173702,\n",
       " 0.013486155308783054,\n",
       " 0.0055679031647741795,\n",
       " 0.037227094173431396,\n",
       " 0.007232483476400375,\n",
       " 0.040156226605176926,\n",
       " 0.0815032571554184,\n",
       " 0.0719916820526123,\n",
       " -0.013056128285825253,\n",
       " -0.04288210719823837,\n",
       " -0.011011248454451561,\n",
       " 0.004897767677903175,\n",
       " -0.009229646995663643,\n",
       " 0.03519149869680405,\n",
       " -0.05103505775332451,\n",
       " -1.571437557856825e-08,\n",
       " -0.08862439543008804,\n",
       " 0.02390928752720356,\n",
       " -0.01623876392841339,\n",
       " 0.03170052170753479,\n",
       " 0.02728426270186901,\n",
       " 0.052468862384557724,\n",
       " -0.04707096889615059,\n",
       " -0.05884750187397003,\n",
       " -0.0632081851363182,\n",
       " 0.04088852182030678,\n",
       " 0.049827951937913895,\n",
       " 0.10655172169208527,\n",
       " -0.07450233399868011,\n",
       " -0.01249540876597166,\n",
       " 0.018370704725384712,\n",
       " 0.039474133402109146,\n",
       " -0.024797827005386353,\n",
       " 0.014516277238726616,\n",
       " -0.03706919774413109,\n",
       " 0.020015696063637733,\n",
       " -4.856267696595751e-05,\n",
       " 0.009866558946669102,\n",
       " 0.024838758632540703,\n",
       " -0.05245811119675636,\n",
       " 0.029314203187823296,\n",
       " -0.08719188719987869,\n",
       " -0.014499754644930363,\n",
       " 0.026019103825092316,\n",
       " -0.01874636486172676,\n",
       " -0.07620514184236526,\n",
       " 0.03504326194524765,\n",
       " 0.10363952815532684,\n",
       " -0.028050504624843597,\n",
       " 0.01271816249936819,\n",
       " -0.0763254463672638,\n",
       " -0.01865229941904545,\n",
       " 0.024976715445518494,\n",
       " 0.08144530653953552,\n",
       " 0.06875887513160706,\n",
       " -0.06405659765005112,\n",
       " -0.08389385044574738,\n",
       " 0.06136230379343033,\n",
       " -0.03354558348655701,\n",
       " -0.10615337640047073,\n",
       " -0.04008054360747337,\n",
       " 0.032530203461647034,\n",
       " 0.07662482559680939,\n",
       " -0.07301618903875351,\n",
       " 0.0003375656669959426,\n",
       " -0.04087166115641594,\n",
       " -0.0757884755730629,\n",
       " 0.027527691796422005,\n",
       " 0.0746253952383995,\n",
       " 0.017717327922582626,\n",
       " 0.09121845662593842,\n",
       " 0.11022018641233444,\n",
       " 0.0005698166787624359,\n",
       " 0.05146335810422897,\n",
       " -0.014551336877048016,\n",
       " 0.033232029527425766,\n",
       " 0.02379228174686432,\n",
       " -0.02288983389735222,\n",
       " 0.03893755003809929,\n",
       " 0.030206838622689247]"
      ]
     },
     "execution_count": 7,
     "metadata": {},
     "output_type": "execute_result"
    }
   ],
   "source": [
    "query_result"
   ]
  },
  {
   "cell_type": "code",
   "execution_count": 14,
   "metadata": {},
   "outputs": [
    {
     "data": {
      "text/plain": [
       "True"
      ]
     },
     "execution_count": 14,
     "metadata": {},
     "output_type": "execute_result"
    }
   ],
   "source": [
    "from dotenv import load_dotenv\n",
    "load_dotenv()"
   ]
  },
  {
   "cell_type": "code",
   "execution_count": 56,
   "metadata": {},
   "outputs": [],
   "source": [
    "PINECONE_API_KEY=os.environ.get('PINECONE_API_KEY')\n",
    "GROQ_API_KEY=os.environ.get('GROQ_API_KEY')"
   ]
  },
  {
   "cell_type": "code",
   "execution_count": 17,
   "metadata": {},
   "outputs": [],
   "source": [
    "from pinecone.grpc import PineconeGRPC as Pinecone\n",
    "from pinecone import ServerlessSpec\n",
    "import os\n",
    "\n",
    "pc = Pinecone(api_key=\"pcsk_24EYj4_7BaJnk1zr3sR9qJj8L7mgorvaH9xJMtGKKDxsXRkMP2cWRZLSCBZDddhTEUqefa\")\n",
    "\n",
    "index_name = \"medicalbot\"\n",
    "\n",
    "pc.create_index(\n",
    "    name=index_name,\n",
    "    dimension=384, # Replace with your model dimensions\n",
    "    metric=\"cosine\", # Replace with your model metric\n",
    "    spec=ServerlessSpec(\n",
    "        cloud=\"aws\",\n",
    "        region=\"us-east-1\"\n",
    "    ) \n",
    ")"
   ]
  },
  {
   "cell_type": "code",
   "execution_count": 46,
   "metadata": {},
   "outputs": [],
   "source": [
    "import os\n",
    "os.environ[\"PINECONE_API_KEY\"] = \"pcsk_24EYj4_7BaJnk1zr3sR9qJj8L7mgorvaH9xJMtGKKDxsXRkMP2cWRZLSCBZDddhTEUqefa\"\n",
    "os.environ[\"OPENAI_API_KEY\"] = \"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\""
   ]
  },
  {
   "cell_type": "code",
   "execution_count": 23,
   "metadata": {},
   "outputs": [
    {
     "ename": "AttributeError",
     "evalue": "init is no longer a top-level attribute of the pinecone package.\n\nPlease create an instance of the Pinecone class instead.\n\nExample:\n\n    import os\n    from pinecone import Pinecone, ServerlessSpec\n\n    pc = Pinecone(\n        api_key=os.environ.get(\"PINECONE_API_KEY\")\n    )\n\n    # Now do stuff\n    if 'my_index' not in pc.list_indexes().names():\n        pc.create_index(\n            name='my_index', \n            dimension=1536, \n            metric='euclidean',\n            spec=ServerlessSpec(\n                cloud='aws',\n                region='us-west-2'\n            )\n        )\n\n",
     "output_type": "error",
     "traceback": [
      "\u001b[1;31m---------------------------------------------------------------------------\u001b[0m",
      "\u001b[1;31mAttributeError\u001b[0m                            Traceback (most recent call last)",
      "Cell \u001b[1;32mIn[23], line 5\u001b[0m\n\u001b[0;32m      3\u001b[0m \u001b[38;5;28;01mimport\u001b[39;00m \u001b[38;5;21;01mpinecone\u001b[39;00m\n\u001b[0;32m      4\u001b[0m os\u001b[38;5;241m.\u001b[39menviron[\u001b[38;5;124m\"\u001b[39m\u001b[38;5;124mPINECONE_API_KEY\u001b[39m\u001b[38;5;124m\"\u001b[39m] \u001b[38;5;241m=\u001b[39m \u001b[38;5;124m\"\u001b[39m\u001b[38;5;124mpcsk_24EYj4_7BaJnk1zr3sR9qJj8L7mgorvaH9xJMtGKKDxsXRkMP2cWRZLSCBZDddhTEUqefa\u001b[39m\u001b[38;5;124m\"\u001b[39m\n\u001b[1;32m----> 5\u001b[0m \u001b[43mpinecone\u001b[49m\u001b[38;5;241;43m.\u001b[39;49m\u001b[43minit\u001b[49m\u001b[43m(\u001b[49m\u001b[43mapi_key\u001b[49m\u001b[38;5;241;43m=\u001b[39;49m\u001b[43mos\u001b[49m\u001b[38;5;241;43m.\u001b[39;49m\u001b[43menviron\u001b[49m\u001b[43m[\u001b[49m\u001b[38;5;124;43m\"\u001b[39;49m\u001b[38;5;124;43mPINECONE_API_KEY\u001b[39;49m\u001b[38;5;124;43m\"\u001b[39;49m\u001b[43m]\u001b[49m\u001b[43m,\u001b[49m\u001b[43m \u001b[49m\u001b[43menvironment\u001b[49m\u001b[38;5;241;43m=\u001b[39;49m\u001b[38;5;124;43m\"\u001b[39;49m\u001b[38;5;124;43mus-east-1\u001b[39;49m\u001b[38;5;124;43m\"\u001b[39;49m\u001b[43m)\u001b[49m\n\u001b[0;32m      7\u001b[0m \u001b[38;5;66;03m# Create the Pinecone vector store\u001b[39;00m\n\u001b[0;32m      8\u001b[0m docsearch \u001b[38;5;241m=\u001b[39m Pinecone\u001b[38;5;241m.\u001b[39mfrom_documents(\n\u001b[0;32m      9\u001b[0m     documents\u001b[38;5;241m=\u001b[39mtext_chunks,\n\u001b[0;32m     10\u001b[0m     embedding\u001b[38;5;241m=\u001b[39membeddings,\n\u001b[0;32m     11\u001b[0m     index_name\u001b[38;5;241m=\u001b[39mindex_name\n\u001b[0;32m     12\u001b[0m )\n",
      "File \u001b[1;32mc:\\Users\\varsh\\anaconda3\\envs\\medibot\\lib\\site-packages\\pinecone\\deprecation_warnings.py:39\u001b[0m, in \u001b[0;36minit\u001b[1;34m(*args, **kwargs)\u001b[0m\n\u001b[0;32m     12\u001b[0m     example \u001b[38;5;241m=\u001b[39m \u001b[38;5;124m\"\"\"\u001b[39m\n\u001b[0;32m     13\u001b[0m \u001b[38;5;124m    import os\u001b[39m\n\u001b[0;32m     14\u001b[0m \u001b[38;5;124m    from pinecone import Pinecone, ServerlessSpec\u001b[39m\n\u001b[1;32m   (...)\u001b[0m\n\u001b[0;32m     30\u001b[0m \u001b[38;5;124m        )\u001b[39m\n\u001b[0;32m     31\u001b[0m \u001b[38;5;124m\"\"\"\u001b[39m\n\u001b[0;32m     32\u001b[0m     msg \u001b[38;5;241m=\u001b[39m \u001b[38;5;124mf\u001b[39m\u001b[38;5;124m\"\"\"\u001b[39m\u001b[38;5;124minit is no longer a top-level attribute of the pinecone package.\u001b[39m\n\u001b[0;32m     33\u001b[0m \n\u001b[0;32m     34\u001b[0m \u001b[38;5;124mPlease create an instance of the Pinecone class instead.\u001b[39m\n\u001b[1;32m   (...)\u001b[0m\n\u001b[0;32m     37\u001b[0m \u001b[38;5;132;01m{\u001b[39;00mexample\u001b[38;5;132;01m}\u001b[39;00m\n\u001b[0;32m     38\u001b[0m \u001b[38;5;124m\"\"\"\u001b[39m\n\u001b[1;32m---> 39\u001b[0m     \u001b[38;5;28;01mraise\u001b[39;00m \u001b[38;5;167;01mAttributeError\u001b[39;00m(msg)\n",
      "\u001b[1;31mAttributeError\u001b[0m: init is no longer a top-level attribute of the pinecone package.\n\nPlease create an instance of the Pinecone class instead.\n\nExample:\n\n    import os\n    from pinecone import Pinecone, ServerlessSpec\n\n    pc = Pinecone(\n        api_key=os.environ.get(\"PINECONE_API_KEY\")\n    )\n\n    # Now do stuff\n    if 'my_index' not in pc.list_indexes().names():\n        pc.create_index(\n            name='my_index', \n            dimension=1536, \n            metric='euclidean',\n            spec=ServerlessSpec(\n                cloud='aws',\n                region='us-west-2'\n            )\n        )\n\n"
     ]
    }
   ],
   "source": [
    "from langchain.vectorstores import Pinecone\n",
    "\n",
    "# Create the Pinecone vector store\n",
    "docsearch = Pinecone.from_documents(\n",
    "    documents=text_chunks,\n",
    "    embedding=embeddings,\n",
    "    index_name=index_name\n",
    ")"
   ]
  },
  {
   "cell_type": "code",
   "execution_count": 24,
   "metadata": {},
   "outputs": [],
   "source": [
    "from langchain.vectorstores import Pinecone\n",
    "\n",
    "# Embed each chunk and upsert the embeddings into your Pinecone index\n",
    "docsearch = Pinecone.from_existing_index(\n",
    "    index_name=index_name,\n",
    "    embedding=embeddings\n",
    ")\n"
   ]
  },
  {
   "cell_type": "code",
   "execution_count": 25,
   "metadata": {},
   "outputs": [
    {
     "data": {
      "text/plain": [
       "<langchain_community.vectorstores.pinecone.Pinecone at 0x220dbd28820>"
      ]
     },
     "execution_count": 25,
     "metadata": {},
     "output_type": "execute_result"
    }
   ],
   "source": [
    "docsearch"
   ]
  },
  {
   "cell_type": "code",
   "execution_count": 28,
   "metadata": {},
   "outputs": [],
   "source": [
    "retriever= docsearch.as_retriever(search_type=\"similarity\", search_kwargs={\"k\":3})"
   ]
  },
  {
   "cell_type": "code",
   "execution_count": 29,
   "metadata": {},
   "outputs": [],
   "source": [
    "retrieved_docs=retriever.invoke(\"What is Acne\")"
   ]
  },
  {
   "cell_type": "code",
   "execution_count": 30,
   "metadata": {},
   "outputs": [
    {
     "data": {
      "text/plain": [
       "[Document(metadata={'page': 39.0, 'source': 'Data\\\\Medical_book.pdf'}, page_content='GALE ENCYCLOPEDIA OF MEDICINE 226\\nAcne\\nGEM - 0001 to 0432 - A  10/22/03 1:41 PM  Page 26'),\n",
       " Document(metadata={'page': 39.0, 'source': 'Data\\\\Medical_book.pdf'}, page_content='GALE ENCYCLOPEDIA OF MEDICINE 226\\nAcne\\nGEM - 0001 to 0432 - A  10/22/03 1:41 PM  Page 26'),\n",
       " Document(metadata={'page': 37.0, 'source': 'Data\\\\Medical_book.pdf'}, page_content='Acidosis see Respiratory acidosis; Renal\\ntubular acidosis; Metabolic acidosis\\nAcne\\nDefinition\\nAcne is a common skin disease characterized by\\npimples on the face, chest, and back. It occurs when the\\npores of the skin become clogged with oil, dead skin\\ncells, and bacteria.\\nDescription\\nAcne vulgaris, the medical term for common acne, is\\nthe most common skin disease. It affects nearly 17 million\\npeople in the United States. While acne can arise at any')]"
      ]
     },
     "execution_count": 30,
     "metadata": {},
     "output_type": "execute_result"
    }
   ],
   "source": [
    "retrieved_docs"
   ]
  },
  {
   "cell_type": "code",
   "execution_count": 53,
   "metadata": {},
   "outputs": [],
   "source": [
    "from langchain_openai import OpenAI\n",
    "llm= OpenAI(temperature=0.4, max_tokens=200)"
   ]
  },
  {
   "cell_type": "code",
   "execution_count": 48,
   "metadata": {},
   "outputs": [],
   "source": [
    "from langchain.chains import create_retrieval_chain\n",
    "from langchain.chains.combine_documents import create_stuff_documents_chain\n",
    "from langchain_core.prompts import ChatPromptTemplate\n",
    "\n",
    "\n",
    "\n",
    "system_prompt = (\n",
    "    \"You are an assistant for question-answering tasks. \"\n",
    "    \"Use the following pieces of retrieved context to answer \"\n",
    "    \"the question. If you don't know the answer, say that you \"\n",
    "    \"don't know. Use three sentences maximum and keep the \"\n",
    "    \"answer concise.\"\n",
    "    \"\\n\\n\"\n",
    "    \"{context}\"\n",
    ")\n",
    "\n",
    "prompt = ChatPromptTemplate.from_messages(\n",
    "    [\n",
    "        (\"system\", system_prompt),\n",
    "        (\"human\",\"{input}\"),\n",
    "    ]\n",
    ")\n",
    "\n",
    "\n"
   ]
  },
  {
   "cell_type": "code",
   "execution_count": 54,
   "metadata": {},
   "outputs": [],
   "source": [
    "question_answer_chain = create_stuff_documents_chain(llm, prompt)\n",
    "rag_chain = create_retrieval_chain(retriever, question_answer_chain)"
   ]
  },
  {
   "cell_type": "code",
   "execution_count": null,
   "metadata": {},
   "outputs": [],
   "source": []
  },
  {
   "cell_type": "code",
   "execution_count": 52,
   "metadata": {},
   "outputs": [
    {
     "ename": "ImportError",
     "evalue": "cannot import name 'RateLimitError' from 'langchain_core.runnables.base' (c:\\Users\\varsh\\anaconda3\\envs\\medibot\\lib\\site-packages\\langchain_core\\runnables\\base.py)",
     "output_type": "error",
     "traceback": [
      "\u001b[1;31m---------------------------------------------------------------------------\u001b[0m",
      "\u001b[1;31mImportError\u001b[0m                               Traceback (most recent call last)",
      "Cell \u001b[1;32mIn[52], line 2\u001b[0m\n\u001b[0;32m      1\u001b[0m \u001b[38;5;28;01mimport\u001b[39;00m \u001b[38;5;21;01mtime\u001b[39;00m\n\u001b[1;32m----> 2\u001b[0m \u001b[38;5;28;01mfrom\u001b[39;00m \u001b[38;5;21;01mlangchain_core\u001b[39;00m\u001b[38;5;21;01m.\u001b[39;00m\u001b[38;5;21;01mrunnables\u001b[39;00m\u001b[38;5;21;01m.\u001b[39;00m\u001b[38;5;21;01mbase\u001b[39;00m \u001b[38;5;28;01mimport\u001b[39;00m RateLimitError\n\u001b[0;32m      4\u001b[0m \u001b[38;5;28;01mdef\u001b[39;00m \u001b[38;5;21minvoke_with_retries\u001b[39m(chain, query, max_retries\u001b[38;5;241m=\u001b[39m\u001b[38;5;241m5\u001b[39m):\n\u001b[0;32m      5\u001b[0m     delay \u001b[38;5;241m=\u001b[39m \u001b[38;5;241m2\u001b[39m  \u001b[38;5;66;03m# Initial delay in seconds\u001b[39;00m\n",
      "\u001b[1;31mImportError\u001b[0m: cannot import name 'RateLimitError' from 'langchain_core.runnables.base' (c:\\Users\\varsh\\anaconda3\\envs\\medibot\\lib\\site-packages\\langchain_core\\runnables\\base.py)"
     ]
    }
   ],
   "source": [
    "# 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"
   ]
  }
 ],
 "metadata": {
  "kernelspec": {
   "display_name": "medibot",
   "language": "python",
   "name": "python3"
  },
  "language_info": {
   "codemirror_mode": {
    "name": "ipython",
    "version": 3
   },
   "file_extension": ".py",
   "mimetype": "text/x-python",
   "name": "python",
   "nbconvert_exporter": "python",
   "pygments_lexer": "ipython3",
   "version": "3.9.21"
  }
 },
 "nbformat": 4,
 "nbformat_minor": 2
}
